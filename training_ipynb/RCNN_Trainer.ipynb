{
  "nbformat": 4,
  "nbformat_minor": 0,
  "metadata": {
    "colab": {
      "name": "RCNN Trainer.ipynb",
      "provenance": [],
      "collapsed_sections": [],
      "toc_visible": true
    },
    "kernelspec": {
      "name": "python2",
      "display_name": "Python 2"
    },
    "accelerator": "GPU"
  },
  "cells": [
    {
      "cell_type": "markdown",
      "metadata": {
        "id": "o1yKs-aSZWnr",
        "colab_type": "text"
      },
      "source": [
        "#Ensure Version is Correct"
      ]
    },
    {
      "cell_type": "code",
      "metadata": {
        "id": "jb9HiC4cXg8i",
        "colab_type": "code",
        "colab": {}
      },
      "source": [
        "from google.colab import drive\n",
        "drive.mount('/content/drive')\n",
        "\n",
        "\n",
        "import tensorflow as tf\n",
        "if tf.__version__ == '1.14.0':\n",
        "  print('Version Check passed')\n",
        "else:\n",
        "  print('Incompatible version')\n",
        "  input('Interrupt')\n"
      ],
      "execution_count": 0,
      "outputs": []
    },
    {
      "cell_type": "markdown",
      "metadata": {
        "id": "XLvyjsZ-dDxB",
        "colab_type": "text"
      },
      "source": [
        "#Compling models and Testing"
      ]
    },
    {
      "cell_type": "code",
      "metadata": {
        "id": "s7nf_n0ZjC3D",
        "colab_type": "code",
        "colab": {}
      },
      "source": [
        "%cd /content\n",
        "!git clone --quiet https://github.com/tensorflow/models.git\n",
        "!apt-get install -qq protobuf-compiler python-pil python-lxml python-tk\n",
        "!pip install -q Cython contextlib2 pillow lxml matplotlib\n",
        "!pip install -q pycocotools\n",
        "!pip install pandas\n",
        "!pip install opencv-python\n",
        "\n",
        "%cd /content/models/research\n",
        "!protoc object_detection/protos/*.proto --python_out=.\n",
        "\n",
        "import os\n",
        "os.environ['PYTHONPATH'] += ':/content/models/research/:/content/models/research/slim/'\n",
        "os.environ['PYTHONPATH'] += ':/content/models/research/:/content/models/research/'\n",
        "os.environ['PYTHONPATH'] += ':/content/models/research/:/content/models/'\n",
        "\n",
        "!python object_detection/builders/model_builder_test.py"
      ],
      "execution_count": 0,
      "outputs": []
    },
    {
      "cell_type": "markdown",
      "metadata": {
        "id": "P3U1GIVxlw-M",
        "colab_type": "text"
      },
      "source": [
        "#Download Model"
      ]
    },
    {
      "cell_type": "code",
      "metadata": {
        "id": "VW8Y9FQClgQk",
        "colab_type": "code",
        "colab": {}
      },
      "source": [
        "%cd /content/models/research/object_detection\n",
        "!wget http://download.tensorflow.org/models/object_detection/faster_rcnn_resnet101_coco_2018_01_28.tar.gz\n",
        "!tar -xvf faster_rcnn_resnet101_coco_2018_01_28.tar.gz"
      ],
      "execution_count": 0,
      "outputs": []
    },
    {
      "cell_type": "markdown",
      "metadata": {
        "id": "uJZhJWLVVXb4",
        "colab_type": "text"
      },
      "source": [
        "#Copy Dataset and API Tutorial"
      ]
    },
    {
      "cell_type": "code",
      "metadata": {
        "id": "M5HxSxp1nXwV",
        "colab_type": "code",
        "colab": {}
      },
      "source": [
        "%cd /content\n",
        "!rm -r ObjDet_Demo\n",
        "!git clone --quiet https://github.com/EdjeElectronics/TensorFlow-Object-Detection-API-Tutorial-Train-Multiple-Objects-Windows-10.git\n",
        "!mv /content/TensorFlow-Object-Detection-API-Tutorial-Train-Multiple-Objects-Windows-10 /content/ObjDet_Demo\n",
        "\n",
        "%cd /content/ObjDet_Demo\n",
        "!rm -r training/*\n",
        "!rm -r inference_graph/*\n",
        "!rm -r images/*.*\n",
        "!rm -r images/test\n",
        "!rm -r images/train\n",
        "\n",
        "%cd /content/drive/\"My Drive\"/Images\n",
        "!cp -rv test /content/ObjDet_Demo/images/test\n",
        "!cp -rv train /content/ObjDet_Demo/images/train\n",
        "\n",
        "!mv -v /content/ObjDet_Demo/* /content/models/research/object_detection/\n"
      ],
      "execution_count": 0,
      "outputs": []
    },
    {
      "cell_type": "markdown",
      "metadata": {
        "id": "oLCd6gsoMLNc",
        "colab_type": "text"
      },
      "source": [
        "#Build and Install setup.py"
      ]
    },
    {
      "cell_type": "code",
      "metadata": {
        "id": "47wUWx9POVaq",
        "colab_type": "code",
        "colab": {}
      },
      "source": [
        "%cd /content/models/research\n",
        "!python setup.py build\n",
        "!python setup.py install"
      ],
      "execution_count": 0,
      "outputs": []
    },
    {
      "cell_type": "markdown",
      "metadata": {
        "id": "ZBvq894zMlRc",
        "colab_type": "text"
      },
      "source": [
        "#Generate CSV, TfRecords and Label Map"
      ]
    },
    {
      "cell_type": "code",
      "metadata": {
        "id": "MW_yIWXQUfO9",
        "colab_type": "code",
        "colab": {}
      },
      "source": [
        "%cd /content/models/research/object_detection\n",
        "!python xml_to_csv.py\n",
        "\n",
        "%cd /content/models/research/object_detection\n",
        "!rm -r generate_tfrecord.py\n",
        "%cd /content/drive/My Drive/Modified Files\n",
        "!cp generate_tfrecord.py /content/models/research/object_detection/\n",
        "%cd /content/models/research/object_detection\n",
        "!python generate_tfrecord.py --csv_input=images/train_labels.csv --image_dir=images/train --output_path=train.record\n",
        "!python generate_tfrecord.py --csv_input=images/test_labels.csv --image_dir=images/test --output_path=test.record\n",
        "\n",
        "%cd /content/models/research/object_detection/training\n",
        "!rm -r faster_rcnn_resnet101_coco.config\n",
        "%cd /content/drive/My Drive/Modified Files\n",
        "!cp faster_rcnn_resnet101_coco.config /content/models/research/object_detection/training/\n",
        "!cp label_map.pbtxt /content/models/research/object_detection/training\n",
        "%cd /content/models/research/object_detection/training\n",
        "!mv -v label_map.pbtxt labelmap.pbtxt"
      ],
      "execution_count": 0,
      "outputs": []
    },
    {
      "cell_type": "markdown",
      "metadata": {
        "id": "jCzlocN7MyoM",
        "colab_type": "text"
      },
      "source": [
        "#Copy legacy file and begin training"
      ]
    },
    {
      "cell_type": "markdown",
      "metadata": {
        "id": "TZYrQ1CUNCot",
        "colab_type": "text"
      },
      "source": [
        ""
      ]
    },
    {
      "cell_type": "code",
      "metadata": {
        "id": "sUf-3y6G1xRD",
        "colab_type": "code",
        "colab": {}
      },
      "source": [
        "%cd /content/models/research/object_detection/legacy\n",
        "!cp train.py /content/models/research/object_detection/\n",
        "%cd /content/models/research/object_detection/\n",
        "!python train.py --logtostderr --train_dir=/content/models/research/object_detection/training/ --pipeline_config_path=/content/models/research/object_detection/training/faster_rcnn_resnet101_coco.config"
      ],
      "execution_count": 0,
      "outputs": []
    },
    {
      "cell_type": "markdown",
      "metadata": {
        "id": "4aUb5fZSNAbj",
        "colab_type": "text"
      },
      "source": [
        "#Create frozen inference graph"
      ]
    },
    {
      "cell_type": "code",
      "metadata": {
        "id": "3jst8C-QufR6",
        "colab_type": "code",
        "colab": {}
      },
      "source": [
        "chkNum = input(\"Change Checkpoint Number:\")\n",
        "!python export_inference_graph.py --input_type image_tensor --pipeline_config_path training/faster_rcnn_resnet101_coco.config --trained_checkpoint_prefix training/model.ckpt-2823 --output_directory inference_graph"
      ],
      "execution_count": 0,
      "outputs": []
    },
    {
      "cell_type": "markdown",
      "metadata": {
        "id": "o-dF68yZNGEK",
        "colab_type": "text"
      },
      "source": [
        "#Copy frozen inference graph to Google Drive"
      ]
    },
    {
      "cell_type": "code",
      "metadata": {
        "id": "fHzHVnjv0V-N",
        "colab_type": "code",
        "colab": {}
      },
      "source": [
        "!cp -r inference_graph /content/drive/\"My Drive\"/Saved_Models/Faster_RCNN/"
      ],
      "execution_count": 0,
      "outputs": []
    }
  ]
}
